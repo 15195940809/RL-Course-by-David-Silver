{
 "cells": [
  {
   "cell_type": "markdown",
   "metadata": {},
   "source": [
    "### Toy Problem of Markov Process"
   ]
  },
  {
   "cell_type": "markdown",
   "metadata": {},
   "source": [
    "There are four income classes in one country (old money, middle class, poor, homeless). Their proportions change every year, but this change fits the Markov process and the specific change can be described by a transition matrix. \n",
    "\n",
    "**Q:what is the proportion in the end?**"
   ]
  },
  {
   "cell_type": "code",
   "execution_count": 4,
   "metadata": {},
   "outputs": [
    {
     "name": "stdout",
     "output_type": "stream",
     "text": [
      "[[0.0375 0.8875 0.4625 0.8875]\n",
      " [0.4625 0.0375 0.4625 0.0375]\n",
      " [0.4625 0.0375 0.0375 0.0375]\n",
      " [0.0375 0.0375 0.0375 0.0375]]\n"
     ]
    }
   ],
   "source": [
    "import numpy as np\n",
    "i=0\n",
    "n=20\n",
    "#income class:The proportion in society of old money， middle class， poor， homeless\n",
    "x = np.array([\n",
    "    [0.70],\n",
    "    [0.15],\n",
    "    [0.05],\n",
    "    [0.10]])  # the current state vector\n",
    "P = 0.85*np.array([\n",
    "    [0., 1., 0.5, 1],\n",
    "    [0.5, 0, 0.5, 0.0],\n",
    "    [0.5, 0, 0., 0.0],\n",
    "    [0.0, 0, 0., 0.0]\n",
    "]) + 0.15*0.25*np.ones([4,4]) # transition matrix\n",
    "#**input your code**#\n",
    "\n",
    "\n",
    "\n",
    "#*******************#\n",
    "print(x)"
   ]
  },
  {
   "cell_type": "markdown",
   "metadata": {},
   "source": [
    "change the initial value"
   ]
  },
  {
   "cell_type": "code",
   "execution_count": 14,
   "metadata": {},
   "outputs": [
    {
     "name": "stdout",
     "output_type": "stream",
     "text": [
      "[[0.25119234]\n",
      " [0.25176337]\n",
      " [0.24880766]\n",
      " [0.24823663]]\n"
     ]
    }
   ],
   "source": [
    "x = np.array([\n",
    "    [0.1],\n",
    "    [0.2],\n",
    "    [0.4],\n",
    "    [0.3]])  \n",
    "#**input your code**#\n",
    "\n",
    "\n",
    "\n",
    "#*******************#\n",
    "print(x)"
   ]
  },
  {
   "cell_type": "markdown",
   "metadata": {},
   "source": [
    "changee matrix"
   ]
  },
  {
   "cell_type": "code",
   "execution_count": null,
   "metadata": {},
   "outputs": [],
   "source": [
    "P = np.array([\n",
    "    [0.8, 0.15, 0.00, 0.05],\n",
    "    [0.05, 0.8, 0.15, 0.00],\n",
    "    [0.00, 0.05, 0.8, 0.15],\n",
    "    [0.15, 0.00, 0.05, 0.8]\n",
    "])\n",
    "#**input your code**#\n",
    "\n",
    "\n",
    "\n",
    "#*******************#\n",
    "print(x)"
   ]
  },
  {
   "cell_type": "markdown",
   "metadata": {},
   "source": [
    "### Conclusion\n",
    "\n",
    "1.In most cases, no matter what the initial state is, the final state will converge to a steady state.\n",
    "\n",
    "\n",
    "$$\\vec{x}_{t+1}=P\\vec{x}_t$$\n",
    "\n",
    "2.If P is a constant matrix, $\\vec{x}_{t+1}$ is only related to $\\vec{x}_t=(a1,a2,a3,a4)^T$.\n",
    "\n",
    "i.e. An information state $\\vec{x}_t$(a.k.a. Markov state) contains all useful information from the history $\\vec{x}_1,\\vec{x}_2,...,\\vec{x}_{t-1}$.\n",
    "\n",
    "i.e.the four variable $(a1,a2,a3,a4)^T$ is the full observability of state\n",
    "\n",
    "i.e. Once the state $\\vec{x}_t$ is known, the history $\\vec{x}_1,\\vec{x}_2,...,\\vec{x}_{t-1}$ may be thrown away\n",
    "\n",
    "In other word, the state $\\vec{x}_t=(a1,a2,a3,a4)^T$ is a suffcient statistic of the future (4 × 1 column vectors$\\vec{x}_{t+1}$).\n"
   ]
  },
  {
   "cell_type": "markdown",
   "metadata": {},
   "source": [
    "### Further Reading\n",
    "[Another example about pagerank and it has interactive illustration that can help you understand in deep](http://immersivemath.com/ila/ch10_eigen/ch10.html)\n",
    "\n",
    "    Example 10.2: Simpliffied Pagerank\n",
    "    How does Google rank web pages? In this example, we will look at a simplified model for ranking web pages. The main idea is that a web page has a higher rank if many pages (with high rank) links to this page. The problem is recursive. In order to calculate the rank of one page, you need to know the ranks of the other pages. Another way to look at this is to think of a person that randomly clicks on one of the links of a homepage. After random browsing, the page rank is the probability that you are on a certain homepage. In order to connect all homepages one has the idea that with a small probability (say 15 percent) one jumps to a totally random homepage. Let's look at a toy example. Assume that there are four homepages on the internet, 1 - 'Immersive Math', 2 - 'Linear Algebra', 3 - 'Boolean Algebra' and 4 - 'Boring Algebra'.\n",
    "    ...(see at the above website)\n"
   ]
  },
  {
   "cell_type": "markdown",
   "metadata": {},
   "source": [
    "For some cases where the final state does not converge, We can invoke the [Perron-Frobenius theorem](http://en.wikipedia.org/wiki/Perron-Frobenius_theorem) of matrix in the analysis of the convergence of the Pagerank algorithm.\n",
    "\n",
    "With PF theorem, we can conclude that the Pagerank with damping factor, under the assumption that all eigenvalues of P are distinct, converges to an eigenvector corresponding to the largest eigenvalue $\\lambda_1$ = 1."
   ]
  }
 ],
 "metadata": {
  "kernelspec": {
   "display_name": "Python 3",
   "language": "python",
   "name": "python3"
  },
  "language_info": {
   "codemirror_mode": {
    "name": "ipython",
    "version": 3
   },
   "file_extension": ".py",
   "mimetype": "text/x-python",
   "name": "python",
   "nbconvert_exporter": "python",
   "pygments_lexer": "ipython3",
   "version": "3.6.7"
  }
 },
 "nbformat": 4,
 "nbformat_minor": 4
}
