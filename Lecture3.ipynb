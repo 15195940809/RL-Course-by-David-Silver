{
 "cells": [
  {
   "cell_type": "markdown",
   "metadata": {},
   "source": [
    "# Outline\n",
    "1. policy evaluation for random policy\n",
    "2. policy iteration\n",
    "3. in-place policy iteration\n",
    "4. value iteration\n",
    "5. in-place value iteration\n",
    "6. Comparison about the convergence rate of above method \n",
    "\n",
    "Thanks to my seniors for providing me with base code."
   ]
  },
  {
   "cell_type": "code",
   "execution_count": 1,
   "metadata": {},
   "outputs": [],
   "source": [
    "import numpy as np\n",
    "import time\n",
    "WORLD_SIZE = 5\n",
    "N_ACTIONS = 4  # [North, South, West, East]\n",
    "gamma = 0.9\n",
    "v_policy=[]\n",
    "v_value=[]\n",
    "v_inplace_value=[]\n",
    "v_inplace_policy=[]\n",
    "class Env(object):\n",
    "    def __init__(self):\n",
    "\n",
    "        self.A_pos = [0, 1]\n",
    "        self.A_n_pos = [4, 1]\n",
    "        self.B_pos = [0, 3]\n",
    "        self.B_n_pos = [2, 3]\n",
    "\n",
    "        self.Snext_sa = np.empty((WORLD_SIZE, WORLD_SIZE, 4), dtype=np.object)\n",
    "        #matrix Snext_sa stores the next state under the s and a conditions.\n",
    "        self.R_sa = np.zeros((WORLD_SIZE, WORLD_SIZE, 4))\n",
    "        for i in range(WORLD_SIZE):\n",
    "            for j in range(WORLD_SIZE):\n",
    "                for a in range(N_ACTIONS):\n",
    "                    s = [i, j]\n",
    "                    if a == 0:   #North\n",
    "                        if i == 0:\n",
    "                            s_n = s\n",
    "                            r = -1\n",
    "                        else: \n",
    "                            s_n = [i-1, j]\n",
    "                            r = 0\n",
    "                    elif a == 1:  #South\n",
    "                        if i == WORLD_SIZE - 1:\n",
    "                            s_n = s\n",
    "                            r = -1\n",
    "                        else:\n",
    "                            s_n = [i+1, j]\n",
    "                            r = 0\n",
    "                    elif a == 2: # West\n",
    "                        if j == 0:\n",
    "                            s_n = s\n",
    "                            r = -1\n",
    "                        else:\n",
    "                            s_n = [i, j-1]\n",
    "                            r = 0\n",
    "                    else:  # East\n",
    "                        if j == WORLD_SIZE - 1:\n",
    "                            s_n = s\n",
    "                            r = -1\n",
    "                        else:\n",
    "                            s_n = [i, j+1]\n",
    "                            r = 0\n",
    "                            \n",
    "                    if s == self.A_pos:\n",
    "                        s_n = self.A_n_pos\n",
    "                        r = 10\n",
    "                    elif s == self.B_pos:\n",
    "                        s_n = self.B_n_pos\n",
    "                        r = 5\n",
    "                    \n",
    "                    self.Snext_sa[i,j,a] = s_n\n",
    "                    self.R_sa[i,j,a] = r"
   ]
  },
  {
   "cell_type": "markdown",
   "metadata": {},
   "source": [
    "## 1. policy evaluation for random policy"
   ]
  },
  {
   "cell_type": "code",
   "execution_count": 2,
   "metadata": {},
   "outputs": [],
   "source": [
    "random_policy = np.full((WORLD_SIZE, WORLD_SIZE, N_ACTIONS),\n",
    "                        1. / N_ACTIONS, dtype=np.float32)"
   ]
  },
  {
   "cell_type": "code",
   "execution_count": 3,
   "metadata": {},
   "outputs": [],
   "source": [
    "def policy_evaluate(policy, env, max_step=1000, tol=1e-6):\n",
    "    V = np.zeros((WORLD_SIZE, WORLD_SIZE), dtype=np.float32)  \n",
    "    update_step = 0\n",
    "    for _ in range(max_step):\n",
    "        new_V = V.copy()\n",
    "        for i in range(WORLD_SIZE):\n",
    "            for j in range(WORLD_SIZE):  # s(i,j):current state\n",
    "                qs = np.zeros((N_ACTIONS,), dtype=np.float32)   # q(s,a) for s(i,j)\n",
    "                for a in range(N_ACTIONS):\n",
    "                    n_s = env.Snext_sa[i, j, a]#n_s:next state\n",
    "                    r = env.R_sa[i, j, a]\n",
    "                    n_V = V[n_s[0], n_s[1]]#V(next state)\n",
    "                    qs[a] = r + gamma * n_V#q(current state,a))=R_sa+gamma*sum(P_ssa*V(next state))=R_sa+gamma*V(next state)\n",
    "                new_V[i, j] = np.sum(qs * policy[i, j])#V_pi(s(i,j))=sum_all_a(pi(a|s(i,j))*q(s(i,j),a))\n",
    "        v_policy.append(np.mean(V))\n",
    "        if np.sum(np.abs(V - new_V)) < tol:\n",
    "            break\n",
    "        V = new_V\n",
    "    return V   "
   ]
  },
  {
   "cell_type": "code",
   "execution_count": 5,
   "metadata": {},
   "outputs": [
    {
     "name": "stdout",
     "output_type": "stream",
     "text": [
      "[[ 3.308997    8.789292    4.42762     5.322368    1.4921793 ]\n",
      " [ 1.5215887   2.9923184   2.2501407   1.9075724   0.5474032 ]\n",
      " [ 0.05082303  0.73817116  0.6731138   0.3581868  -0.4031406 ]\n",
      " [-0.97359174 -0.43549493 -0.3548817  -0.58560455 -1.1830745 ]\n",
      " [-1.8577001  -1.3452307  -1.2292668  -1.4229176  -1.9751785 ]]\n"
     ]
    }
   ],
   "source": [
    "env = Env()\n",
    "random_V = policy_evaluate(random_policy, env)\n",
    "print(random_V)"
   ]
  },
  {
   "cell_type": "code",
   "execution_count": 6,
   "metadata": {},
   "outputs": [
    {
     "data": {
      "text/html": [
       "<img src='Gridworld.jpg' >\n"
      ],
      "text/plain": [
       "<IPython.core.display.HTML object>"
      ]
     },
     "metadata": {},
     "output_type": "display_data"
    }
   ],
   "source": [
    "%%html\n",
    "<img src='Gridworld.jpg' >"
   ]
  },
  {
   "cell_type": "markdown",
   "metadata": {},
   "source": [
    "## 2.policy iteration"
   ]
  },
  {
   "cell_type": "code",
   "execution_count": 7,
   "metadata": {},
   "outputs": [],
   "source": [
    "def policy_iteration(max_iter=100):\n",
    "    env=Env()\n",
    "    policy= np.full((WORLD_SIZE, WORLD_SIZE, N_ACTIONS),\n",
    "                        1. / N_ACTIONS, dtype=np.float32)\n",
    "    for i in range(max_iter):\n",
    "        V = policy_evaluate(policy, env)\n",
    "        last_policy=policy\n",
    "        policy=policy_improvement(V,env)\n",
    "        print(\"the iter num:\",i,policy)\n",
    "        if (last_policy==policy).all():\n",
    "            break\n",
    "    return policy,V\n",
    "    "
   ]
  },
  {
   "cell_type": "code",
   "execution_count": 9,
   "metadata": {},
   "outputs": [],
   "source": [
    "def policy_improvement(V,env):\n",
    "    policy= np.zeros((WORLD_SIZE, WORLD_SIZE, N_ACTIONS), dtype=np.float32)\n",
    "    for i in range(WORLD_SIZE):\n",
    "        for j in range(WORLD_SIZE):  # s(i,j):current state\n",
    "            qs = np.zeros((N_ACTIONS,), dtype=np.float32)   # q(s,a) for s(i,j)\n",
    "            for a in range(N_ACTIONS):\n",
    "                n_s = env.Snext_sa[i, j, a]#n_s:next state\n",
    "                r = env.R_sa[i, j, a]\n",
    "                n_V = V[n_s[0], n_s[1]]#V(next state)\n",
    "                qs[a] = r + gamma * n_V#q(current state,a))=R_sa+gamma*sum(P_ssa*V(next state))=R_sa+gamma*V(next state)\n",
    "            policy[i,j]=action_choose(list(qs))\n",
    "    return policy"
   ]
  },
  {
   "cell_type": "code",
   "execution_count": 10,
   "metadata": {},
   "outputs": [],
   "source": [
    "def action_choose(qs):\n",
    "    p=np.zeros((N_ACTIONS,), dtype=np.float32)\n",
    "    maxq=max(qs)\n",
    "    repeat=qs.count(maxq)\n",
    "    for i,value in enumerate(qs):\n",
    "        if value==maxq:\n",
    "            p[i]=1/repeat\n",
    "    return p"
   ]
  },
  {
   "cell_type": "code",
   "execution_count": 14,
   "metadata": {},
   "outputs": [
    {
     "data": {
      "text/html": [
       "<img src='Gridworld_optimal.jpg' >\n"
      ],
      "text/plain": [
       "<IPython.core.display.HTML object>"
      ]
     },
     "metadata": {},
     "output_type": "display_data"
    }
   ],
   "source": [
    "%%html\n",
    "<img src='Gridworld_optimal.jpg' >"
   ]
  },
  {
   "cell_type": "code",
   "execution_count": 11,
   "metadata": {
    "scrolled": true
   },
   "outputs": [
    {
     "name": "stdout",
     "output_type": "stream",
     "text": [
      "the iter num: 0 [[[0.   0.   0.   1.  ]\n",
      "  [0.25 0.25 0.25 0.25]\n",
      "  [0.   0.   1.   0.  ]\n",
      "  [0.25 0.25 0.25 0.25]\n",
      "  [0.   0.   1.   0.  ]]\n",
      "\n",
      " [[1.   0.   0.   0.  ]\n",
      "  [1.   0.   0.   0.  ]\n",
      "  [1.   0.   0.   0.  ]\n",
      "  [1.   0.   0.   0.  ]\n",
      "  [0.   0.   1.   0.  ]]\n",
      "\n",
      " [[1.   0.   0.   0.  ]\n",
      "  [1.   0.   0.   0.  ]\n",
      "  [1.   0.   0.   0.  ]\n",
      "  [1.   0.   0.   0.  ]\n",
      "  [1.   0.   0.   0.  ]]\n",
      "\n",
      " [[1.   0.   0.   0.  ]\n",
      "  [1.   0.   0.   0.  ]\n",
      "  [1.   0.   0.   0.  ]\n",
      "  [1.   0.   0.   0.  ]\n",
      "  [1.   0.   0.   0.  ]]\n",
      "\n",
      " [[1.   0.   0.   0.  ]\n",
      "  [1.   0.   0.   0.  ]\n",
      "  [1.   0.   0.   0.  ]\n",
      "  [1.   0.   0.   0.  ]\n",
      "  [1.   0.   0.   0.  ]]]\n",
      "the iter num: 1 [[[0.   0.   0.   1.  ]\n",
      "  [0.25 0.25 0.25 0.25]\n",
      "  [0.   0.   1.   0.  ]\n",
      "  [0.25 0.25 0.25 0.25]\n",
      "  [0.   0.   1.   0.  ]]\n",
      "\n",
      " [[0.5  0.   0.   0.5 ]\n",
      "  [1.   0.   0.   0.  ]\n",
      "  [0.5  0.   0.5  0.  ]\n",
      "  [0.   0.   1.   0.  ]\n",
      "  [0.5  0.   0.5  0.  ]]\n",
      "\n",
      " [[0.5  0.   0.   0.5 ]\n",
      "  [1.   0.   0.   0.  ]\n",
      "  [0.5  0.   0.5  0.  ]\n",
      "  [0.   0.   1.   0.  ]\n",
      "  [0.5  0.   0.5  0.  ]]\n",
      "\n",
      " [[0.5  0.   0.   0.5 ]\n",
      "  [1.   0.   0.   0.  ]\n",
      "  [0.5  0.   0.5  0.  ]\n",
      "  [0.   0.   1.   0.  ]\n",
      "  [0.5  0.   0.5  0.  ]]\n",
      "\n",
      " [[0.5  0.   0.   0.5 ]\n",
      "  [1.   0.   0.   0.  ]\n",
      "  [0.5  0.   0.5  0.  ]\n",
      "  [0.   0.   1.   0.  ]\n",
      "  [0.5  0.   0.5  0.  ]]]\n",
      "the iter num: 2 [[[0.   0.   0.   1.  ]\n",
      "  [0.25 0.25 0.25 0.25]\n",
      "  [0.   0.   1.   0.  ]\n",
      "  [0.25 0.25 0.25 0.25]\n",
      "  [0.   0.   1.   0.  ]]\n",
      "\n",
      " [[0.5  0.   0.   0.5 ]\n",
      "  [1.   0.   0.   0.  ]\n",
      "  [0.5  0.   0.5  0.  ]\n",
      "  [0.   0.   1.   0.  ]\n",
      "  [0.   0.   1.   0.  ]]\n",
      "\n",
      " [[0.5  0.   0.   0.5 ]\n",
      "  [1.   0.   0.   0.  ]\n",
      "  [0.5  0.   0.5  0.  ]\n",
      "  [0.5  0.   0.5  0.  ]\n",
      "  [0.   0.   1.   0.  ]]\n",
      "\n",
      " [[0.5  0.   0.   0.5 ]\n",
      "  [1.   0.   0.   0.  ]\n",
      "  [0.5  0.   0.5  0.  ]\n",
      "  [0.5  0.   0.5  0.  ]\n",
      "  [0.   0.   1.   0.  ]]\n",
      "\n",
      " [[0.5  0.   0.   0.5 ]\n",
      "  [1.   0.   0.   0.  ]\n",
      "  [0.5  0.   0.5  0.  ]\n",
      "  [0.5  0.   0.5  0.  ]\n",
      "  [0.   0.   1.   0.  ]]]\n",
      "the iter num: 3 [[[0.   0.   0.   1.  ]\n",
      "  [0.25 0.25 0.25 0.25]\n",
      "  [0.   0.   1.   0.  ]\n",
      "  [0.25 0.25 0.25 0.25]\n",
      "  [0.   0.   1.   0.  ]]\n",
      "\n",
      " [[0.5  0.   0.   0.5 ]\n",
      "  [1.   0.   0.   0.  ]\n",
      "  [0.5  0.   0.5  0.  ]\n",
      "  [0.   0.   1.   0.  ]\n",
      "  [0.   0.   1.   0.  ]]\n",
      "\n",
      " [[0.5  0.   0.   0.5 ]\n",
      "  [1.   0.   0.   0.  ]\n",
      "  [0.5  0.   0.5  0.  ]\n",
      "  [0.5  0.   0.5  0.  ]\n",
      "  [0.5  0.   0.5  0.  ]]\n",
      "\n",
      " [[0.5  0.   0.   0.5 ]\n",
      "  [1.   0.   0.   0.  ]\n",
      "  [0.5  0.   0.5  0.  ]\n",
      "  [0.5  0.   0.5  0.  ]\n",
      "  [0.5  0.   0.5  0.  ]]\n",
      "\n",
      " [[0.5  0.   0.   0.5 ]\n",
      "  [1.   0.   0.   0.  ]\n",
      "  [0.5  0.   0.5  0.  ]\n",
      "  [0.5  0.   0.5  0.  ]\n",
      "  [0.5  0.   0.5  0.  ]]]\n",
      "the iter num: 4 [[[0.   0.   0.   1.  ]\n",
      "  [0.25 0.25 0.25 0.25]\n",
      "  [0.   0.   1.   0.  ]\n",
      "  [0.25 0.25 0.25 0.25]\n",
      "  [0.   0.   1.   0.  ]]\n",
      "\n",
      " [[0.5  0.   0.   0.5 ]\n",
      "  [1.   0.   0.   0.  ]\n",
      "  [0.5  0.   0.5  0.  ]\n",
      "  [0.   0.   1.   0.  ]\n",
      "  [0.   0.   1.   0.  ]]\n",
      "\n",
      " [[0.5  0.   0.   0.5 ]\n",
      "  [1.   0.   0.   0.  ]\n",
      "  [0.5  0.   0.5  0.  ]\n",
      "  [0.5  0.   0.5  0.  ]\n",
      "  [0.5  0.   0.5  0.  ]]\n",
      "\n",
      " [[0.5  0.   0.   0.5 ]\n",
      "  [1.   0.   0.   0.  ]\n",
      "  [0.5  0.   0.5  0.  ]\n",
      "  [0.5  0.   0.5  0.  ]\n",
      "  [0.5  0.   0.5  0.  ]]\n",
      "\n",
      " [[0.5  0.   0.   0.5 ]\n",
      "  [1.   0.   0.   0.  ]\n",
      "  [0.5  0.   0.5  0.  ]\n",
      "  [0.5  0.   0.5  0.  ]\n",
      "  [0.5  0.   0.5  0.  ]]]\n"
     ]
    }
   ],
   "source": [
    "policy_best,V_best=policy_iteration()"
   ]
  },
  {
   "cell_type": "code",
   "execution_count": 12,
   "metadata": {},
   "outputs": [
    {
     "data": {
      "text/plain": [
       "array([[21.977484, 24.419426, 21.977484, 19.419426, 17.477484],\n",
       "       [19.779736, 21.977484, 19.779736, 17.801762, 16.021585],\n",
       "       [17.801762, 19.779736, 17.801762, 16.021585, 14.419427],\n",
       "       [16.021585, 17.801762, 16.021585, 14.419427, 12.977484],\n",
       "       [14.419427, 16.021585, 14.419427, 12.977484, 11.679734]],\n",
       "      dtype=float32)"
      ]
     },
     "execution_count": 12,
     "metadata": {},
     "output_type": "execute_result"
    }
   ],
   "source": [
    "V_best"
   ]
  },
  {
   "cell_type": "code",
   "execution_count": 13,
   "metadata": {
    "scrolled": true
   },
   "outputs": [
    {
     "data": {
      "text/plain": [
       "array([[[0.  , 0.  , 0.  , 1.  ],\n",
       "        [0.25, 0.25, 0.25, 0.25],\n",
       "        [0.  , 0.  , 1.  , 0.  ],\n",
       "        [0.25, 0.25, 0.25, 0.25],\n",
       "        [0.  , 0.  , 1.  , 0.  ]],\n",
       "\n",
       "       [[0.5 , 0.  , 0.  , 0.5 ],\n",
       "        [1.  , 0.  , 0.  , 0.  ],\n",
       "        [0.5 , 0.  , 0.5 , 0.  ],\n",
       "        [0.  , 0.  , 1.  , 0.  ],\n",
       "        [0.  , 0.  , 1.  , 0.  ]],\n",
       "\n",
       "       [[0.5 , 0.  , 0.  , 0.5 ],\n",
       "        [1.  , 0.  , 0.  , 0.  ],\n",
       "        [0.5 , 0.  , 0.5 , 0.  ],\n",
       "        [0.5 , 0.  , 0.5 , 0.  ],\n",
       "        [0.5 , 0.  , 0.5 , 0.  ]],\n",
       "\n",
       "       [[0.5 , 0.  , 0.  , 0.5 ],\n",
       "        [1.  , 0.  , 0.  , 0.  ],\n",
       "        [0.5 , 0.  , 0.5 , 0.  ],\n",
       "        [0.5 , 0.  , 0.5 , 0.  ],\n",
       "        [0.5 , 0.  , 0.5 , 0.  ]],\n",
       "\n",
       "       [[0.5 , 0.  , 0.  , 0.5 ],\n",
       "        [1.  , 0.  , 0.  , 0.  ],\n",
       "        [0.5 , 0.  , 0.5 , 0.  ],\n",
       "        [0.5 , 0.  , 0.5 , 0.  ],\n",
       "        [0.5 , 0.  , 0.5 , 0.  ]]], dtype=float32)"
      ]
     },
     "execution_count": 13,
     "metadata": {},
     "output_type": "execute_result"
    }
   ],
   "source": [
    "policy_best"
   ]
  },
  {
   "cell_type": "markdown",
   "metadata": {},
   "source": [
    "## 3. inplace policy iteration"
   ]
  },
  {
   "cell_type": "code",
   "execution_count": 21,
   "metadata": {},
   "outputs": [],
   "source": [
    "def inplace_policy_evaluate(policy, env, max_step=1000, tol=1e-6):\n",
    "    V = np.zeros((WORLD_SIZE, WORLD_SIZE), dtype=np.float32)  \n",
    "    update_step = 0\n",
    "    for _ in range(max_step):\n",
    "        new_V = V.copy()\n",
    "        for i in range(WORLD_SIZE):\n",
    "            for j in range(WORLD_SIZE):  # s(i,j):current state\n",
    "                qs = np.zeros((N_ACTIONS,), dtype=np.float32)   # q(s,a) for s(i,j)\n",
    "                for a in range(N_ACTIONS):\n",
    "                    n_s = env.Snext_sa[i, j, a]#n_s:next state\n",
    "                    r = env.R_sa[i, j, a]\n",
    "                    n_V = V[n_s[0], n_s[1]]#V(next state)\n",
    "                    qs[a] = r + gamma * n_V#q(current state,a))=R_sa+gamma*sum(P_ssa*V(next state))=R_sa+gamma*V(next state)\n",
    "                V[i, j] = np.sum(qs * policy[i, j])#V_pi(s(i,j))=sum_all_a(pi(a|s(i,j))*q(s(i,j),a))\n",
    "        v_inplace_policy.append(np.mean(V))\n",
    "        if np.sum(np.abs(V - new_V)) < tol:\n",
    "            break       \n",
    "    return V   "
   ]
  },
  {
   "cell_type": "code",
   "execution_count": 8,
   "metadata": {},
   "outputs": [],
   "source": [
    "def inplace_policy_iteration(max_iter=100):\n",
    "    env=Env()\n",
    "    policy= np.full((WORLD_SIZE, WORLD_SIZE, N_ACTIONS),\n",
    "                        1. / N_ACTIONS, dtype=np.float32)\n",
    "    for i in range(max_iter):\n",
    "        V = inplace_policy_evaluate(policy, env)\n",
    "        last_policy=policy\n",
    "        policy=policy_improvement(V,env)\n",
    "        print(\"!\")\n",
    "        if (last_policy==policy).all():\n",
    "            break\n",
    "    return policy,V\n",
    "    "
   ]
  },
  {
   "cell_type": "code",
   "execution_count": 19,
   "metadata": {},
   "outputs": [
    {
     "name": "stdout",
     "output_type": "stream",
     "text": [
      "!\n",
      "!\n",
      "!\n",
      "!\n",
      "!\n"
     ]
    },
    {
     "data": {
      "text/plain": [
       "(array([[[0.  , 0.  , 0.  , 1.  ],\n",
       "         [0.25, 0.25, 0.25, 0.25],\n",
       "         [0.  , 0.  , 1.  , 0.  ],\n",
       "         [0.25, 0.25, 0.25, 0.25],\n",
       "         [0.  , 0.  , 1.  , 0.  ]],\n",
       " \n",
       "        [[0.5 , 0.  , 0.  , 0.5 ],\n",
       "         [1.  , 0.  , 0.  , 0.  ],\n",
       "         [0.5 , 0.  , 0.5 , 0.  ],\n",
       "         [0.  , 0.  , 1.  , 0.  ],\n",
       "         [0.  , 0.  , 1.  , 0.  ]],\n",
       " \n",
       "        [[0.5 , 0.  , 0.  , 0.5 ],\n",
       "         [1.  , 0.  , 0.  , 0.  ],\n",
       "         [0.5 , 0.  , 0.5 , 0.  ],\n",
       "         [0.5 , 0.  , 0.5 , 0.  ],\n",
       "         [0.5 , 0.  , 0.5 , 0.  ]],\n",
       " \n",
       "        [[0.5 , 0.  , 0.  , 0.5 ],\n",
       "         [1.  , 0.  , 0.  , 0.  ],\n",
       "         [0.5 , 0.  , 0.5 , 0.  ],\n",
       "         [0.5 , 0.  , 0.5 , 0.  ],\n",
       "         [0.5 , 0.  , 0.5 , 0.  ]],\n",
       " \n",
       "        [[0.5 , 0.  , 0.  , 0.5 ],\n",
       "         [1.  , 0.  , 0.  , 0.  ],\n",
       "         [0.5 , 0.  , 0.5 , 0.  ],\n",
       "         [0.5 , 0.  , 0.5 , 0.  ],\n",
       "         [0.5 , 0.  , 0.5 , 0.  ]]], dtype=float32),\n",
       " array([[21.977484, 24.419426, 21.977484, 19.419426, 17.477484],\n",
       "        [19.779736, 21.977484, 19.779736, 17.801762, 16.021585],\n",
       "        [17.801762, 19.779736, 17.801762, 16.021585, 14.419427],\n",
       "        [16.021585, 17.801762, 16.021585, 14.419427, 12.977484],\n",
       "        [14.419427, 16.021585, 14.419427, 12.977484, 11.679735]],\n",
       "       dtype=float32))"
      ]
     },
     "execution_count": 19,
     "metadata": {},
     "output_type": "execute_result"
    }
   ],
   "source": [
    "inplace_policy_iteration()"
   ]
  },
  {
   "cell_type": "markdown",
   "metadata": {},
   "source": [
    "## 4. value iteration"
   ]
  },
  {
   "cell_type": "code",
   "execution_count": 15,
   "metadata": {},
   "outputs": [],
   "source": [
    "def value_iteration( max_step=1000, tol=1e-6):\n",
    "    env=Env()\n",
    "    V = np.zeros((WORLD_SIZE, WORLD_SIZE), dtype=np.float32)  \n",
    "    update_step = 0\n",
    "    for _ in range(max_step):\n",
    "        new_V = V.copy()\n",
    "        for i in range(WORLD_SIZE):\n",
    "            for j in range(WORLD_SIZE):  # s(i,j):current state\n",
    "                qs = np.zeros((N_ACTIONS,), dtype=np.float32)   # q(s,a) for s(i,j)\n",
    "                for a in range(N_ACTIONS):\n",
    "                    n_s = env.Snext_sa[i, j, a]#n_s:next state\n",
    "                    r = env.R_sa[i, j, a]\n",
    "                    n_V = V[n_s[0], n_s[1]]#V(next state)\n",
    "                    qs[a] = r + gamma * n_V#q(current state,a))=R_sa+gamma*sum(P_ssa*V(next state))=R_sa+gamma*V(next state)\n",
    "                new_V[i, j] = np.max(qs)#V_*(s(i,j))=max_a(pi(a|s(i,j))*q(s(i,j),a))\n",
    "        v_value.append(np.mean(V))\n",
    "        if np.sum(np.abs(V - new_V)) < tol:\n",
    "            break\n",
    "        V = new_V\n",
    "    policy= np.zeros((WORLD_SIZE, WORLD_SIZE, N_ACTIONS), dtype=np.float32)\n",
    "    for i in range(WORLD_SIZE):\n",
    "        for j in range(WORLD_SIZE):  # s(i,j):current state\n",
    "            qs = np.zeros((N_ACTIONS,), dtype=np.float32)   # q(s,a) for s(i,j)\n",
    "            for a in range(N_ACTIONS):\n",
    "                n_s = env.Snext_sa[i, j, a]#n_s:next state\n",
    "                r = env.R_sa[i, j, a]\n",
    "                n_V = V[n_s[0], n_s[1]]#V(next state)\n",
    "                qs[a] = r + gamma * n_V#q(current state,a))=R_sa+gamma*sum(P_ssa*V(next state))=R_sa+gamma*V(next state)\n",
    "            policy[i,j]=action_choose(list(qs))    \n",
    "    return policy,V"
   ]
  },
  {
   "cell_type": "code",
   "execution_count": 16,
   "metadata": {},
   "outputs": [
    {
     "data": {
      "text/plain": [
       "(array([[[0.  , 0.  , 0.  , 1.  ],\n",
       "         [0.25, 0.25, 0.25, 0.25],\n",
       "         [0.  , 0.  , 1.  , 0.  ],\n",
       "         [0.25, 0.25, 0.25, 0.25],\n",
       "         [0.  , 0.  , 1.  , 0.  ]],\n",
       " \n",
       "        [[0.5 , 0.  , 0.  , 0.5 ],\n",
       "         [1.  , 0.  , 0.  , 0.  ],\n",
       "         [0.5 , 0.  , 0.5 , 0.  ],\n",
       "         [0.  , 0.  , 1.  , 0.  ],\n",
       "         [0.  , 0.  , 1.  , 0.  ]],\n",
       " \n",
       "        [[0.5 , 0.  , 0.  , 0.5 ],\n",
       "         [1.  , 0.  , 0.  , 0.  ],\n",
       "         [0.5 , 0.  , 0.5 , 0.  ],\n",
       "         [0.5 , 0.  , 0.5 , 0.  ],\n",
       "         [0.5 , 0.  , 0.5 , 0.  ]],\n",
       " \n",
       "        [[0.5 , 0.  , 0.  , 0.5 ],\n",
       "         [1.  , 0.  , 0.  , 0.  ],\n",
       "         [0.5 , 0.  , 0.5 , 0.  ],\n",
       "         [0.5 , 0.  , 0.5 , 0.  ],\n",
       "         [0.5 , 0.  , 0.5 , 0.  ]],\n",
       " \n",
       "        [[0.5 , 0.  , 0.  , 0.5 ],\n",
       "         [1.  , 0.  , 0.  , 0.  ],\n",
       "         [0.5 , 0.  , 0.5 , 0.  ],\n",
       "         [0.5 , 0.  , 0.5 , 0.  ],\n",
       "         [0.5 , 0.  , 0.5 , 0.  ]]], dtype=float32),\n",
       " array([[21.977484, 24.419426, 21.977484, 19.419426, 17.477484],\n",
       "        [19.779736, 21.977484, 19.779736, 17.801762, 16.021585],\n",
       "        [17.801762, 19.779736, 17.801762, 16.021585, 14.419427],\n",
       "        [16.021585, 17.801762, 16.021585, 14.419427, 12.977484],\n",
       "        [14.419427, 16.021585, 14.419427, 12.977484, 11.679734]],\n",
       "       dtype=float32))"
      ]
     },
     "execution_count": 16,
     "metadata": {},
     "output_type": "execute_result"
    }
   ],
   "source": [
    "value_iteration()"
   ]
  },
  {
   "cell_type": "markdown",
   "metadata": {},
   "source": [
    "## 5. inplace value iteration"
   ]
  },
  {
   "cell_type": "code",
   "execution_count": 17,
   "metadata": {},
   "outputs": [],
   "source": [
    "def inplace_value_iteration( max_step=1000, tol=1e-6):\n",
    "    env=Env()\n",
    "    V = np.zeros((WORLD_SIZE, WORLD_SIZE), dtype=np.float32)  \n",
    "    update_step = 0\n",
    "    for _ in range(max_step):\n",
    "        new_V = V.copy()\n",
    "        for i in range(WORLD_SIZE):\n",
    "            for j in range(WORLD_SIZE):  # s(i,j):current state\n",
    "                qs = np.zeros((N_ACTIONS,), dtype=np.float32)   # q(s,a) for s(i,j)\n",
    "                for a in range(N_ACTIONS):\n",
    "                    n_s = env.Snext_sa[i, j, a]#n_s:next state\n",
    "                    r = env.R_sa[i, j, a]\n",
    "                    n_V = V[n_s[0], n_s[1]]#V(next state)\n",
    "                    qs[a] = r + gamma * n_V#q(current state,a))=R_sa+gamma*sum(P_ssa*V(next state))=R_sa+gamma*V(next state)\n",
    "                V[i, j] = np.max(qs)#V_*(s(i,j))=max_a(pi(a|s(i,j))*q(s(i,j),a))\n",
    "        v_inplace_value.append(np.mean(V))\n",
    "        if np.sum(np.abs(V - new_V)) < tol:\n",
    "            break\n",
    "    policy= np.zeros((WORLD_SIZE, WORLD_SIZE, N_ACTIONS), dtype=np.float32)\n",
    "    for i in range(WORLD_SIZE):\n",
    "        for j in range(WORLD_SIZE):  # s(i,j):current state\n",
    "            qs = np.zeros((N_ACTIONS,), dtype=np.float32)   # q(s,a) for s(i,j)\n",
    "            for a in range(N_ACTIONS):\n",
    "                n_s = env.Snext_sa[i, j, a]#n_s:next state\n",
    "                r = env.R_sa[i, j, a]\n",
    "                n_V = V[n_s[0], n_s[1]]#V(next state)\n",
    "                qs[a] = r + gamma * n_V#q(current state,a))=R_sa+gamma*sum(P_ssa*V(next state))=R_sa+gamma*V(next state)\n",
    "            policy[i,j]=action_choose(list(qs))    \n",
    "    return policy,V"
   ]
  },
  {
   "cell_type": "code",
   "execution_count": 18,
   "metadata": {
    "scrolled": false
   },
   "outputs": [
    {
     "data": {
      "text/plain": [
       "(array([[[0.  , 0.  , 0.  , 1.  ],\n",
       "         [0.25, 0.25, 0.25, 0.25],\n",
       "         [0.  , 0.  , 1.  , 0.  ],\n",
       "         [0.25, 0.25, 0.25, 0.25],\n",
       "         [0.  , 0.  , 1.  , 0.  ]],\n",
       " \n",
       "        [[0.5 , 0.  , 0.  , 0.5 ],\n",
       "         [1.  , 0.  , 0.  , 0.  ],\n",
       "         [0.5 , 0.  , 0.5 , 0.  ],\n",
       "         [0.  , 0.  , 1.  , 0.  ],\n",
       "         [0.  , 0.  , 1.  , 0.  ]],\n",
       " \n",
       "        [[0.5 , 0.  , 0.  , 0.5 ],\n",
       "         [1.  , 0.  , 0.  , 0.  ],\n",
       "         [0.5 , 0.  , 0.5 , 0.  ],\n",
       "         [0.5 , 0.  , 0.5 , 0.  ],\n",
       "         [0.5 , 0.  , 0.5 , 0.  ]],\n",
       " \n",
       "        [[0.5 , 0.  , 0.  , 0.5 ],\n",
       "         [1.  , 0.  , 0.  , 0.  ],\n",
       "         [0.5 , 0.  , 0.5 , 0.  ],\n",
       "         [0.5 , 0.  , 0.5 , 0.  ],\n",
       "         [0.5 , 0.  , 0.5 , 0.  ]],\n",
       " \n",
       "        [[0.5 , 0.  , 0.  , 0.5 ],\n",
       "         [1.  , 0.  , 0.  , 0.  ],\n",
       "         [0.5 , 0.  , 0.5 , 0.  ],\n",
       "         [0.5 , 0.  , 0.5 , 0.  ],\n",
       "         [0.5 , 0.  , 0.5 , 0.  ]]], dtype=float32),\n",
       " array([[21.977484, 24.419426, 21.977484, 19.419426, 17.477484],\n",
       "        [19.779736, 21.977484, 19.779736, 17.801762, 16.021585],\n",
       "        [17.801762, 19.779736, 17.801762, 16.021585, 14.419427],\n",
       "        [16.021585, 17.801762, 16.021585, 14.419427, 12.977484],\n",
       "        [14.419427, 16.021585, 14.419427, 12.977484, 11.679735]],\n",
       "       dtype=float32))"
      ]
     },
     "execution_count": 18,
     "metadata": {},
     "output_type": "execute_result"
    }
   ],
   "source": [
    "inplace_value_iteration()"
   ]
  },
  {
   "cell_type": "markdown",
   "metadata": {},
   "source": [
    "## 6. Comparison"
   ]
  },
  {
   "cell_type": "code",
   "execution_count": 20,
   "metadata": {},
   "outputs": [
    {
     "data": {
      "text/plain": [
       "<matplotlib.legend.Legend at 0x1d294f45cc8>"
      ]
     },
     "execution_count": 20,
     "metadata": {},
     "output_type": "execute_result"
    },
    {
     "data": {
      "image/png": "[encoded data removed]",
      "text/plain": [
       "<Figure size 432x288 with 1 Axes>"
      ]
     },
     "metadata": {
      "needs_background": "light"
     },
     "output_type": "display_data"
    }
   ],
   "source": [
    "import matplotlib.pyplot as plt\n",
    "plt.plot(v_value)\n",
    "plt.plot(v_policy)\n",
    "plt.plot(v_inplace_value)\n",
    "plt.plot(v_inplace_policy)\n",
    "plt.legend(['value iter',\n",
    "'policy iter',\n",
    "'inplace_value',\n",
    "'inplace_policy'])"
   ]
  }
 ],
 "metadata": {
  "kernelspec": {
   "display_name": "Python 3",
   "language": "python",
   "name": "python3"
  },
  "language_info": {
   "codemirror_mode": {
    "name": "ipython",
    "version": 3
   },
   "file_extension": ".py",
   "mimetype": "text/x-python",
   "name": "python",
   "nbconvert_exporter": "python",
   "pygments_lexer": "ipython3",
   "version": "3.7.4"
  }
 },
 "nbformat": 4,
 "nbformat_minor": 4
}
